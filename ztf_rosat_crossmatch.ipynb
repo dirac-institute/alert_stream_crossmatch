{
 "cells": [
  {
   "cell_type": "code",
   "execution_count": 1,
   "metadata": {},
   "outputs": [],
   "source": [
    "import os\n",
    "import io\n",
    "import gzip\n",
    "import glob\n",
    "import numpy as np\n",
    "import pandas as pd\n",
    "import tarfile\n",
    "import matplotlib.pyplot as plt\n",
    "\n",
    "from avro.datafile import DataFileReader, DataFileWriter\n",
    "from avro.io import DatumReader, DatumWriter\n",
    "import fastavro\n",
    "\n",
    "from astropy.time import Time\n",
    "from astropy.io import fits\n",
    "import aplpy\n",
    "%matplotlib inline"
   ]
  },
  {
   "cell_type": "code",
   "execution_count": 198,
   "metadata": {},
   "outputs": [
    {
     "name": "stdout",
     "output_type": "stream",
     "text": [
      "  % Total    % Received % Xferd  Average Speed   Time    Time     Time  Current\n",
      "                                 Dload  Upload   Total   Spent    Left  Speed\n",
      "100 6086M  100 6086M    0     0   276M      0  0:00:21  0:00:20  0:00:01  213M013M    0     0   275M      0  0:00:22  0:00:21  0:00:01  198M0  0:00:21  0:00:21 --:--:--  204M\n"
     ]
    }
   ],
   "source": [
    "## Download ZTF data to epyc directly\n",
    "\n",
    "#! curl -o /epyc/users/mmckay/ztf_public_20200416.tar.gz https://ztf.uw.edu/alerts/public/ztf_public_20200416.tar.gz"
   ]
  },
  {
   "cell_type": "code",
   "execution_count": 6,
   "metadata": {},
   "outputs": [
    {
     "data": {
      "text/plain": [
       "0"
      ]
     },
     "execution_count": 6,
     "metadata": {},
     "output_type": "execute_result"
    }
   ],
   "source": [
    "#Copy ROSAT catalog from epyc to local directory\n",
    "#os.system('cp  /epyc/data/rosat_2rxs/cat2rxs.fits /epyc/users/mmckay/')"
   ]
  },
  {
   "cell_type": "markdown",
   "metadata": {},
   "source": [
    "# ROSAT dataframe"
   ]
  },
  {
   "cell_type": "code",
   "execution_count": 3,
   "metadata": {},
   "outputs": [
    {
     "data": {
      "text/plain": [
       "0         12.209580\n",
       "1         13.745840\n",
       "2         11.233130\n",
       "3         28.711039\n",
       "4          5.574358\n",
       "            ...    \n",
       "104222    18.148684\n",
       "104223    19.329465\n",
       "104224    24.463706\n",
       "104225    14.669044\n",
       "104226    33.828258\n",
       "Name: err_pos_arcsec, Length: 103351, dtype: float64"
      ]
     },
     "execution_count": 3,
     "metadata": {},
     "output_type": "execute_result"
    }
   ],
   "source": [
    "# Load ROSAT catalog\n",
    "rosat_fits = fits.open('/epyc/users/mmckay/cat2rxs.fits')\n",
    "\n",
    "# Make ROSAT data into a pandas dataframe\n",
    "rosat_data = rosat_fits[1].data\n",
    "dfx = pd.DataFrame(rosat_data)\n",
    "\n",
    "# exclude sources that are not observable\n",
    "dfx = dfx[dfx.DEC_DEG >= -30] \n",
    "#dfx\n",
    "\n",
    "# append ROSAT error position [arcsec] \n",
    "dfx['err_pos_arcsec'] = np.sqrt(((dfx.XERR*45)**2.+ (dfx.YERR*45)**2.) + 0.6**2.)\n",
    "dfx.err_pos_arcsec"
   ]
  },
  {
   "cell_type": "code",
   "execution_count": 4,
   "metadata": {},
   "outputs": [],
   "source": [
    "# List of ROSAT RA and DEC\n",
    "rosat_ra_list = dfx.RA_DEG\n",
    "rosat_dec_list = dfx.DEC_DEG"
   ]
  },
  {
   "cell_type": "markdown",
   "metadata": {},
   "source": [
    "# Extract avro data from ZTF"
   ]
  },
  {
   "cell_type": "code",
   "execution_count": 199,
   "metadata": {},
   "outputs": [],
   "source": [
    "## Extract avro data from the tar file to \n",
    "## *current working directory(Where this notebook is located)*\n",
    "#tar_archive = '/epyc/users/mmckay/ztf_public_20200416.tar.gz'\n",
    "#output_dir = tar_archive.split('/')[-1].split('.')[-3]\n",
    "#archive = tarfile.open(tar_archive,'r:gz')\n",
    "#archive.extractall(path=output_dir)\n",
    "#archive.close()"
   ]
  },
  {
   "cell_type": "code",
   "execution_count": 4,
   "metadata": {},
   "outputs": [],
   "source": [
    "#Count packets\n",
    "def find_files(root_dir):\n",
    "    for dir_name, subdir_list, file_list in os.walk(root_dir, followlinks=True):\n",
    "        for fname in file_list:\n",
    "            if fname.endswith('.avro'):\n",
    "                yield dir_name+'/'+fname"
   ]
  },
  {
   "cell_type": "code",
   "execution_count": 5,
   "metadata": {},
   "outputs": [
    {
     "name": "stdout",
     "output_type": "stream",
     "text": [
      "/epyc/users/mmckay/alert_stream_crossmatch/ztf_public_20200416/ has 140511 avro files\n"
     ]
    }
   ],
   "source": [
    "ztf_data_dir = '/epyc/users/mmckay/alert_stream_crossmatch/ztf_public_20200416/'\n",
    "print('{} has {} avro files'.format(ztf_data_dir, len(list(find_files(ztf_data_dir)))))"
   ]
  },
  {
   "cell_type": "code",
   "execution_count": 10,
   "metadata": {},
   "outputs": [],
   "source": [
    "# Make list of avro files\n",
    "fname_list = glob.glob('{}/*avro'.format(ztf_data_dir))"
   ]
  },
  {
   "cell_type": "code",
   "execution_count": 74,
   "metadata": {},
   "outputs": [],
   "source": [
    "#Make packet into a dataframe\n",
    "#def make_dataframe(packet):\n",
    "#    df = pd.DataFrame(packet['candidate'], index=[0])\n",
    "#    df_prv = pd.DataFrame(packet['prv_candidates'])\n",
    "#    return pd.concat([df,df_prv], ignore_index=True)\n",
    "\n",
    "\n",
    "def extract_avro_data(fname):\n",
    "    with open(fname,'rb') as f:\n",
    "        freader = fastavro.reader(f)\n",
    "        schema = freader.writer_schema # freader.schema - depercated \n",
    "    \n",
    "        for packet in freader:\n",
    "            avro_ra = packet['candidate']['ra']\n",
    "            avro_dec = packet['candidate']['dec']\n",
    "            #print(packet.keys())\n",
    "    # Make packet into a dataframe   \n",
    "    #dflc = make_dataframe(packet)\n",
    "    #avro_ra = dflc.ra[0]\n",
    "    #avro_dec = dflc.dec[0]\n",
    "    return avro_ra, avro_dec\n",
    "        "
   ]
  },
  {
   "cell_type": "markdown",
   "metadata": {},
   "source": [
    "# Multiprocessing - In-progress"
   ]
  },
  {
   "cell_type": "code",
   "execution_count": 269,
   "metadata": {},
   "outputs": [],
   "source": [
    "# Use multiprocessing to speed up avro data extraction\n",
    "#from multiprocessing import Pool\n",
    "#from tqdm import tqdm\n",
    "#from tqdm.notebook import tqdm\n",
    "#\n",
    "#\n",
    "#def extract_avro_radec(fname_list):\n",
    "#    avro_ra_list = []\n",
    "#    avro_dec_list = []\n",
    "#    for avro in tqdm(fname_list):\n",
    "#        print(avro)\n",
    "#        ra, dec = extract_avro_data(avro)\n",
    "#        avro_ra_list.append(ra)\n",
    "#        avro_dec_list.append(dec)\n",
    "#\n",
    "#def extract_avro_mp(fname_list):\n",
    "#    chunks = [fname_list[i::5] for i in range(5)] #split the list ogf avro files into 5 seperate chucks\n",
    "#    print(chunks)\n",
    "#    \n",
    "#    pool = Pool(processes=5)\n",
    "#    \n",
    "#    result = pool.map(extract_avro_radec, chunks)\n",
    "#    print(result)\n",
    "#    return result\n"
   ]
  },
  {
   "cell_type": "code",
   "execution_count": 8,
   "metadata": {},
   "outputs": [],
   "source": [
    "#r = extract_avro_mp(fname_list[:4])"
   ]
  },
  {
   "cell_type": "code",
   "execution_count": 275,
   "metadata": {},
   "outputs": [
    {
     "name": "stdout",
     "output_type": "stream",
     "text": [
      "/epyc/users/mmckay/alert_stream_crossmatch/ztf_public_20200402/1187128334515010008.avro\n"
     ]
    }
   ],
   "source": [
    "#test = fname_list[:5]\n",
    "#chunks = [test[i::5] for i in range(5)]\n",
    "#print(chunks[0][0])\n",
    "#a = extract_avro_radec(chunks[0][0])\n",
    "#a"
   ]
  },
  {
   "cell_type": "code",
   "execution_count": 276,
   "metadata": {},
   "outputs": [
    {
     "data": {
      "text/plain": [
       "['/epyc/users/mmckay/alert_stream_crossmatch/ztf_public_20200402/1187128331015010031.avro']"
      ]
     },
     "execution_count": 276,
     "metadata": {},
     "output_type": "execute_result"
    }
   ],
   "source": [
    "#chunks[1]"
   ]
  },
  {
   "cell_type": "markdown",
   "metadata": {},
   "source": [
    "# Skycoord"
   ]
  },
  {
   "cell_type": "code",
   "execution_count": 14,
   "metadata": {},
   "outputs": [],
   "source": [
    "from astropy.coordinates import SkyCoord  # High-level coordinates\n",
    "#from astropy.coordinates import ICRS, Galactic, FK4, FK5  # Low-level frames\n",
    "#from astropy.coordinates import Angle, Latitude, Longitude  # Angles\n",
    "import astropy.units as u"
   ]
  },
  {
   "cell_type": "code",
   "execution_count": 15,
   "metadata": {},
   "outputs": [
    {
     "data": {
      "text/plain": [
       "<SkyCoord (ICRS): (ra, dec) in deg\n",
       "    [(183.50286557,  87.19713271), (169.10778487,  87.19988261),\n",
       "     (168.08524479,  87.43678965), ..., (356.84304802, -29.89944039),\n",
       "     (356.18179242, -29.94573029), (358.9696836 , -29.97436576)]>"
      ]
     },
     "execution_count": 15,
     "metadata": {},
     "output_type": "execute_result"
    }
   ],
   "source": [
    "# Put ROSAT ra and dec list in SkyCoord [degrees]\n",
    "rosat_skycoord = SkyCoord(ra = rosat_ra_list, dec=rosat_dec_list, frame='icrs', unit=(u.deg))\n",
    "rosat_skycoord"
   ]
  },
  {
   "cell_type": "code",
   "execution_count": 233,
   "metadata": {
    "scrolled": true
   },
   "outputs": [
    {
     "data": {
      "text/plain": [
       "False"
      ]
     },
     "execution_count": 233,
     "metadata": {},
     "output_type": "execute_result"
    }
   ],
   "source": [
    "# Check coordinates object is an array\n",
    "rosat_skycoord.isscalar"
   ]
  },
  {
   "cell_type": "code",
   "execution_count": 19,
   "metadata": {},
   "outputs": [
    {
     "data": {
      "text/plain": [
       "<SkyCoord (ICRS): (ra, dec) in deg\n",
       "    [(104.6744271, -15.3390104), (106.247876 , -20.5182166),\n",
       "     (106.1343784, -19.6293488), (106.4677208, -19.4312591),\n",
       "     (111.2721758, -16.7549467), (104.902724 , -16.4319291),\n",
       "     (105.9973217, -18.7481326), (107.4867928, -17.9728991),\n",
       "     (105.2964855, -15.9753838), (105.1938004, -17.724625 )]>"
      ]
     },
     "execution_count": 19,
     "metadata": {},
     "output_type": "execute_result"
    }
   ],
   "source": [
    "# Put avro data in SkyCoord \n",
    "#ra = dflc.ra[0]\n",
    "#dec = dflc.dec[0]\n",
    "#ra = ztf_ra_list\n",
    "#dec = ztf_dec_list\n",
    "avro_skycoord = SkyCoord(ra=avro_ra_list, dec=avro_dec_list, frame='icrs', unit=(u.deg))\n",
    "#c = SkyCoord(ra=ra, dec=dec, frame='icrs', unit=(u.hourangle, u.deg))\n",
    "avro_skycoord"
   ]
  },
  {
   "cell_type": "code",
   "execution_count": 20,
   "metadata": {},
   "outputs": [
    {
     "data": {
      "text/plain": [
       "False"
      ]
     },
     "execution_count": 20,
     "metadata": {},
     "output_type": "execute_result"
    }
   ],
   "source": [
    "# Check coordinates object is an array\n",
    "avro_skycoord.isscalar"
   ]
  },
  {
   "cell_type": "code",
   "execution_count": 88,
   "metadata": {},
   "outputs": [],
   "source": [
    "# Crossmatch function\n",
    "\n",
    "def ztf_rosat_crossmatch(ztf_ra, ztf_dec, rosat_skycoord, rosat_pos_err):\n",
    "    \"\"\"\n",
    "    Cross match ZTF and ROSAT data in astropy.SkyCoords\n",
    "    \n",
    "    Parameters:\n",
    "    \n",
    "        ztf_ra: float or list of float\n",
    "        \n",
    "        ztf_dec: float or list of float\n",
    "        \n",
    "        rosat_ra_list: pandas.series\n",
    "        \n",
    "        rosat_dec_list: pandas/series\n",
    "        \n",
    "    Return:\n",
    "        \n",
    "        ztf_rosat_ra_match: float\n",
    "        \n",
    "        ztf_rosat_dec_match: float\n",
    "        \n",
    "        match: tuple\n",
    "            Output from Skycoord.match_to_catalog_sky\n",
    "        \n",
    "        \n",
    "    \"\"\"\n",
    "    # Input avro data ra and dec in SkyCoords\n",
    "    avro_skycoord = SkyCoord(ra=ztf_ra, dec=ztf_dec, frame='icrs', unit=(u.deg))\n",
    "    \n",
    "    \n",
    "    \n",
    "    \n",
    "    # Finds the nearest ROSAT source's coordinates to the avro files ra[deg] and dec[deg]\n",
    "    match = avro_skycoord.match_to_catalog_sky(catalogcoord=rosat_skycoord, nthneighbor=1)\n",
    "    #i = 0\n",
    "    match_idx = match[0]\n",
    "    match_sep2d = match[2]\n",
    "    \n",
    "    if match_sep2d <= rosat_pos_err[match_idx] * 0.000277778:\n",
    "        match_result = 'Good! sep2d={} deg'.format(match_sep2d)\n",
    "    else:\n",
    "        match_result = 'Not so good sep2d={} deg'.format(match_sep2d)\n",
    "    \n",
    "    print('ZTF   RA: {}, DEC: {}'.format(avro_skycoord.ra, avro_skycoord.dec))\n",
    "    print('ROSAT RA: {}, DEC: {}'.format(rosat_skycoord.ra[match_idx], rosat_skycoord.dec[match_idx]))\n",
    "    print('Match Result: {}\\n'.format(match_result))\n",
    "    #i += 1\n",
    "    \n",
    "    \n",
    "    #for idx, sep2d in tqdm(zip(match[0], match[2])):\n",
    "    #    if sep2d <= rosat_pos_err[idx] * 0.000277778:\n",
    "    #        match_result = 'Good! sep2d={} deg'.format(sep2d)\n",
    "    #    else:\n",
    "    #        match_result = 'Not so good sep2d={} deg'.format(sep2d)\n",
    "    #        \n",
    "    #    \n",
    "    #    print('ZTF   RA: {}, DEC: {}'.format(avro_skycoord.ra[i], avro_skycoord.dec[i]))\n",
    "    #    print('ROSAT RA: {}, DEC: {}'.format(rosat_skycoord.ra[idx], rosat_skycoord.dec[idx]))\n",
    "    #    print('Match Result: {}\\n'.format(match_result))\n",
    "    #    i += 1\n",
    "        \n",
    "    \n",
    "    \n",
    "    # Index match indice with rosat coordinates\n",
    "    #rosat_ra_match = rosat_skycoord.ra.value[idx]\n",
    "    #rosat_dec_match = rosat_skycoord.dec.value[idx]\n",
    "    \n",
    "    #print('ZTF   RA: {} DEC: {} [deg]'.format(ra,dec))\n",
    "    #print('ROSAT RA: {} DEC: {} [deg]'.format(rosat_ra_match, rosat_dec_match))\n",
    "    #print('On-Sky seperation between the closet match {} \\n'.format(match[1]))\n",
    "    #return rosat_ra_match, rosat_dec_match, match\n",
    "    \n",
    "    "
   ]
  },
  {
   "cell_type": "code",
   "execution_count": 86,
   "metadata": {},
   "outputs": [
    {
     "name": "stdout",
     "output_type": "stream",
     "text": [
      "CPU times: user 7.26 s, sys: 267 ms, total: 7.52 s\n",
      "Wall time: 7.61 s\n"
     ]
    }
   ],
   "source": [
    "%%time\n",
    "# Input rosat data ra list and dec list in SkyCoords\n",
    "rosat_skycoord = SkyCoord(ra = rosat_ra_list, dec=rosat_dec_list, frame='icrs', unit=(u.deg))\n",
    "\n"
   ]
  },
  {
   "cell_type": "code",
   "execution_count": 7,
   "metadata": {},
   "outputs": [],
   "source": [
    "#%%time\n",
    "#for avro in tqdm(fname_list[:]):\n",
    "#    ra, dec = extract_avro_data(avro)\n",
    "#    print('RA: {}, DEC: {}'.format(ra, dec))\n",
    "#    \n",
    "#    ztf_rosat_crossmatch(ra, dec, rosat_skycoord, dfx.err_pos_arcsec)"
   ]
  },
  {
   "cell_type": "code",
   "execution_count": 61,
   "metadata": {},
   "outputs": [
    {
     "data": {
      "application/vnd.jupyter.widget-view+json": {
       "model_id": "e8b2aab27cb8404f888bf4b6d572e043",
       "version_major": 2,
       "version_minor": 0
      },
      "text/plain": [
       "HBox(children=(FloatProgress(value=1.0, bar_style='info', max=1.0), HTML(value='')))"
      ]
     },
     "metadata": {},
     "output_type": "display_data"
    },
    {
     "name": "stdout",
     "output_type": "stream",
     "text": [
      "ZTF   RA: 104.6744271 deg, DEC: -15.3390104 deg\n",
      "ROSAT RA: 104.64307171107367 deg, DEC: -15.300799410405327 deg\n",
      "Match Result: Good! sep2d=0.0008504983396979236 deg\n",
      "\n",
      "ZTF   RA: 106.247876 deg, DEC: -20.5182166 deg\n",
      "ROSAT RA: 106.30238473523903 deg, DEC: -20.34752208139387 deg\n",
      "Match Result: Not so good sep2d=0.003109708020907392 deg\n",
      "\n",
      "ZTF   RA: 106.1343784 deg, DEC: -19.6293488 deg\n",
      "ROSAT RA: 106.41869221135951 deg, DEC: -19.65370774930093 deg\n",
      "Match Result: Good! sep2d=0.004692773991304001 deg\n",
      "\n",
      "ZTF   RA: 106.4677208 deg, DEC: -19.4312591 deg\n",
      "ROSAT RA: 106.41869221135951 deg, DEC: -19.65370774930093 deg\n",
      "Match Result: Good! sep2d=0.003965323588956156 deg\n",
      "\n",
      "ZTF   RA: 111.2721758 deg, DEC: -16.7549467 deg\n",
      "ROSAT RA: 111.15870596145815 deg, DEC: -16.741814045701215 deg\n",
      "Match Result: Good! sep2d=0.0019102127634821862 deg\n",
      "\n",
      "ZTF   RA: 104.902724 deg, DEC: -16.4319291 deg\n",
      "ROSAT RA: 105.29124629139554 deg, DEC: -16.49637427909155 deg\n",
      "Match Result: Not so good sep2d=0.006599497171718853 deg\n",
      "\n",
      "ZTF   RA: 105.9973217 deg, DEC: -18.7481326 deg\n",
      "ROSAT RA: 106.35131277982187 deg, DEC: -18.650273687467248 deg\n",
      "Match Result: Not so good sep2d=0.006096316380193143 deg\n",
      "\n",
      "ZTF   RA: 107.4867928 deg, DEC: -17.9728991 deg\n",
      "ROSAT RA: 107.64128535690062 deg, DEC: -17.949782033865056 deg\n",
      "Match Result: Good! sep2d=0.002596531765936753 deg\n",
      "\n",
      "ZTF   RA: 105.2964855 deg, DEC: -15.9753838 deg\n",
      "ROSAT RA: 105.43242381248541 deg, DEC: -16.263101044248117 deg\n",
      "Match Result: Not so good sep2d=0.005514680206759372 deg\n",
      "\n",
      "ZTF   RA: 105.1938004 deg, DEC: -17.724625 deg\n",
      "ROSAT RA: 105.28232688609219 deg, DEC: -18.161681589999315 deg\n",
      "Match Result: Good! sep2d=0.007768392917919562 deg\n",
      "\n",
      "\n",
      "CPU times: user 7.63 s, sys: 278 ms, total: 7.91 s\n",
      "Wall time: 7.98 s\n"
     ]
    }
   ],
   "source": [
    "%%time\n",
    "ztf_rosat_crossmatch(avro_ra_list, avro_dec_list, rosat_skycoord, dfx.err_pos_arcsec)"
   ]
  },
  {
   "cell_type": "code",
   "execution_count": 28,
   "metadata": {},
   "outputs": [],
   "source": [
    "# testing\n",
    "match = avro_skycoord.match_to_catalog_sky(catalogcoord=rosat_skycoord, nthneighbor=1)\n",
    "idx = match[0]"
   ]
  },
  {
   "cell_type": "code",
   "execution_count": 29,
   "metadata": {},
   "outputs": [
    {
     "data": {
      "text/plain": [
       "array([90083, 95500, 90150, 90150, 90184, 90101, 90134, 90121, 90097,\n",
       "       90122])"
      ]
     },
     "execution_count": 29,
     "metadata": {},
     "output_type": "execute_result"
    }
   ],
   "source": [
    "idx"
   ]
  },
  {
   "cell_type": "markdown",
   "metadata": {},
   "source": [
    "# Test script"
   ]
  },
  {
   "cell_type": "code",
   "execution_count": null,
   "metadata": {},
   "outputs": [],
   "source": [
    "import pandas as pd\n",
    "from avro.datafile import DataFileReader, DataFileWriter\n",
    "from avro.io import DatumReader, DatumWriter\n",
    "import fastavro\n",
    "import aplpy\n",
    "from astropy.coordinates import SkyCoord\n",
    "import astropy.units as u\n",
    "import glob\n",
    "\n",
    "# Extract .avro RA and Dec \n",
    "def extract_avro_data(fname):\n",
    "    \"\"\"\n",
    "    Parameters:\n",
    "                fname: str\n",
    "                \n",
    "    \n",
    "    \"\"\"\n",
    "    with open(fname,'rb') as f:\n",
    "        freader = fastavro.reader(f)\n",
    "        schema = freader.writer_schema # freader.schema - depercated \n",
    "    \n",
    "        for packet in freader:\n",
    "            avro_ra = packet['candidate']['ra']\n",
    "            avro_dec = packet['candidate']['dec']\n",
    "\n",
    "    return avro_ra, avro_dec\n",
    "\n",
    "\n",
    "\n",
    "def ztf_rosat_crossmatch(avro_ra, avro_dec, rosat_skycoord, rosat_pos_err):\n",
    "    \"\"\"\n",
    "    \n",
    "    Cross match ZTF and ROSAT data using astropy.coordinates.SkyCoord\n",
    "    \n",
    "    Parameters:\n",
    "                avro_ra: float or list of float\n",
    "                \n",
    "                avro_dec: float or list of float\n",
    "                \n",
    "                rosat_skycoord: float or list \n",
    "                \n",
    "                rosat_ra_list: pandas.series\n",
    "                \n",
    "                rosat_dec_list: pandas/series\n",
    "                \n",
    "    Return:\n",
    "        \n",
    "                ztf_rosat_ra_match: float\n",
    "                \n",
    "                ztf_rosat_dec_match: float\n",
    "                \n",
    "                match: tuple\n",
    "                    Output from Skycoord.match_to_catalog_sky\n",
    "    \n",
    "    \"\"\"\n",
    "    \n",
    "\n",
    "    # Input avro data ra and dec in SkyCoords\n",
    "    avro_skycoord = SkyCoord(ra=avro_ra, dec=avro_dec, frame='icrs', unit=(u.deg))\n",
    "    \n",
    "    \n",
    "    # Finds the nearest ROSAT source's coordinates to the avro files ra[deg] and dec[deg]\n",
    "    match = avro_skycoord.match_to_catalog_sky(catalogcoord=rosat_skycoord, nthneighbor=1, )\n",
    "    match_idx = match[0]\n",
    "    match_sep2d = match[2]\n",
    "    \n",
    "    if match_sep2d <= rosat_pos_err[match_idx] * 0.000277778:\n",
    "        match_result = 'Good! sep2d={} deg'.format(match_sep2d)\n",
    "        print('ZTF   RA: {}, DEC: {}'.format(avro_skycoord.ra, avro_skycoord.dec))\n",
    "        print('ROSAT RA: {}, DEC: {}'.format(rosat_skycoord.ra[match_idx], rosat_skycoord.dec[match_idx]))\n",
    "        print('Match Result: {}\\n'.format(match_result)) \n",
    "\n",
    "    else:\n",
    "        pass\n",
    "        #match_result = 'Not so good sep2d={} deg'.format(match_sep2d)\n",
    "    \n",
    "    \n",
    "    return avro_skycoord.ra, avro_skycoord.dec, rosat_skycoord.ra[match_idx], rosat_skycoord.dec[match_idx], match_sep2d\n",
    "    \n",
    "    \n",
    "# ROSAT data********\n",
    "    \n",
    "    \n",
    "# Open ROSAT catalog\n",
    "rosat_fits = fits.open('/epyc/users/mmckay/cat2rxs.fits')\n",
    "\n",
    "# Make ROSAT data into a pandas dataframe\n",
    "rosat_data = rosat_fits[1].data\n",
    "dfx = pd.DataFrame(rosat_data)\n",
    "\n",
    "# exclude sources that are not observable\n",
    "dfx = dfx[dfx.DEC_DEG >= -30] \n",
    "\n",
    "# List of ROSAT RA and DEC\n",
    "rosat_ra_list = dfx.RA_DEG\n",
    "rosat_dec_list = dfx.DEC_DEG\n",
    "\n",
    "# List ROSAT error position [arcsec] \n",
    "dfx['err_pos_arcsec'] = np.sqrt(((dfx.XERR*45)**2.+ (dfx.YERR*45)**2.) + 0.6**2.)\n",
    "\n",
    "# Put ROSAT ra and dec list in SkyCoord [degrees]\n",
    "rosat_skycoord = SkyCoord(ra=rosat_ra_list, dec=rosat_dec_list, frame='icrs', unit=(u.deg))\n",
    "\n",
    "\n",
    "# .avro data***********\n",
    "\n",
    "\n",
    "# Move .avro files into a List\n",
    "ztf_data_dir = '/epyc/users/mmckay/alert_stream_crossmatch/ztf_public_20200402'\n",
    "avro_fname_list = glob.glob('{}/*.avro'.format(ztf_data_dir))\n",
    "\n",
    "# Make a list of the data\n",
    "avro_ra_list = []\n",
    "avro_dec_list = []\n",
    "\n",
    "rosat_ra_list = []\n",
    "rosat_dec_list = []\n",
    "\n",
    "sep2d_list = []\n",
    "\n",
    "# Run crossmatch on .avro files\n",
    "for avro in tqdm(fname_list):\n",
    "    \n",
    "    # Extract ra and dec values from avro files\n",
    "    avro_ra, avro_dec = extract_avro_data(avro)\n",
    "    \n",
    "    # Run crossmath functions\n",
    "    avro_ra_match, avro_dec_match, rosat_ra_match, rosat_dec_match, match_2dsep = ztf_rosat_crossmatch(avro_ra, avro_dec, rosat_skycoord, dfx.err_pos_arcsec)\n",
    "    \n",
    "    \n",
    "    avro_ra_list.append(avro_ra_match)\n",
    "    avro_dec_list.append(avro_dec_match)\n",
    "    rosat_ra_list.append(rosat_ra_match)\n",
    "    rosat_dec_list.append(rosat_dec_match)\n",
    "    sep2d_list.append(match_2dsep)\n",
    "    \n",
    "    \n",
    "    \n",
    "\n",
    "    \n",
    "    \n",
    "\n"
   ]
  },
  {
   "cell_type": "code",
   "execution_count": 111,
   "metadata": {},
   "outputs": [],
   "source": [
    "# Make datafame to store .avro and rosat match RA, Dec and 2d seperation angle\n",
    "column_names = [\"avro_RA_[deg]\",  \"avro_Dec_[deg]\", \"ROSAT_RA_[deg]\", \"ROSAT_Dec_[deg]\", \"2D_sep_[deg]\"]\n",
    "crossmatch_df = pd.DataFrame(columns=column_names)\n",
    "\n",
    "crossmatch_df['avro_RA_[deg]'] = avro_ra_list\n",
    "crossmatch_df['avro_Dec_[deg]'] = avro_dec_list\n",
    "crossmatch_df['ROSAT_RA_[deg]'] = rosat_ra_list\n",
    "crossmatch_df['ROSAT_Dec_[deg]'] = rosat_dec_list\n",
    "crossmatch_df['2D_sep_[deg]'] = sep2d_list\n",
    "    "
   ]
  },
  {
   "cell_type": "code",
   "execution_count": 6,
   "metadata": {},
   "outputs": [],
   "source": [
    "#%%time\n",
    "#!python3 ztf_rosat_crossmatch.py -ztf_path='/epyc/users/mmckay/alert_stream_crossmatch/ztf_public_20200402/' > output.txt\n",
    "\n"
   ]
  },
  {
   "cell_type": "code",
   "execution_count": 200,
   "metadata": {},
   "outputs": [
    {
     "name": "stdout",
     "output_type": "stream",
     "text": [
      "/epyc/opt/anaconda-2019/lib/python3.7/site-packages/ipykernel/kernelbase.py:19: VisibleDeprecationWarning: zmq.eventloop.minitornado is deprecated in pyzmq 14.0 and will be removed.\n",
      "    Install tornado itself to use zmq with the tornado IOLoop.\n",
      "    \n",
      "  from jupyter_client.session import utcnow as now\n",
      "CPU times: user 1min 44s, sys: 29.2 s, total: 2min 14s\n",
      "Wall time: 57min 54s\n"
     ]
    }
   ],
   "source": [
    "%%time\n",
    "!python3 ztf_rosat_crossmatch.py -ztf_path='/epyc/users/mmckay/alert_stream_crossmatch/ztf_public_20200416/' > output1.txt\n",
    "\n"
   ]
  },
  {
   "cell_type": "code",
   "execution_count": 141,
   "metadata": {},
   "outputs": [
    {
     "data": {
      "text/plain": [
       "astropy.coordinates.sky_coordinate.SkyCoord"
      ]
     },
     "execution_count": 141,
     "metadata": {},
     "output_type": "execute_result"
    }
   ],
   "source": [
    "SkyCoord"
   ]
  }
 ],
 "metadata": {
  "kernelspec": {
   "display_name": "Python 3",
   "language": "python",
   "name": "python3"
  },
  "language_info": {
   "codemirror_mode": {
    "name": "ipython",
    "version": 3
   },
   "file_extension": ".py",
   "mimetype": "text/x-python",
   "name": "python",
   "nbconvert_exporter": "python",
   "pygments_lexer": "ipython3",
   "version": "3.7.6"
  }
 },
 "nbformat": 4,
 "nbformat_minor": 2
}
